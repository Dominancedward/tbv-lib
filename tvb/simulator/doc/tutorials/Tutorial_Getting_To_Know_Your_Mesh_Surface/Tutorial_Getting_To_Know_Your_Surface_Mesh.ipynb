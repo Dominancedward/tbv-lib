{
 "metadata": {
  "name": "",
  "signature": "sha256:8966f71dc8a667c50d3ac8f457f602de4f202f407ab1605da744cd3cf0322aee"
 },
 "nbformat": 3,
 "nbformat_minor": 0,
 "worksheets": [
  {
   "cells": [
    {
     "cell_type": "markdown",
     "metadata": {},
     "source": [
      "Tutorial: Getting To Know Your Surface Mesh\n",
      "============================================\n",
      "\n",
      "Surface level simulations in TVB use a triangular mesh surface to represent the \n",
      "folded cortical surface, similar triangular mesh surfaces are used to represent \n",
      "the boundaries between brain and skull, skull and skin, and skin and air, that \n",
      "are used in the calculation of EEG and MEG forward solutions. This tutorial \n",
      "covers a few basic ways of looking at the properties of these surfaces.\n",
      "\n",
      "One of the things we'll be looking for is how well regularised the mesh is -- a\n",
      "well regularised a mesh has a narrow distribution of edge lengths and triangle \n",
      "areas. For most uses in TVB, it is important to have a well regularised mesh. "
     ]
    },
    {
     "cell_type": "markdown",
     "metadata": {},
     "source": [
      "Setup\n",
      "-----\n",
      "\n",
      "We'll start as usual by loading a few things we need via the \"lab\":"
     ]
    },
    {
     "cell_type": "code",
     "collapsed": false,
     "input": [
      "%pylab inline"
     ],
     "language": "python",
     "metadata": {},
     "outputs": [
      {
       "output_type": "stream",
       "stream": "stdout",
       "text": [
        "Populating the interactive namespace from numpy and matplotlib\n"
       ]
      }
     ],
     "prompt_number": 1
    },
    {
     "cell_type": "code",
     "collapsed": true,
     "input": [
      "from tvb.simulator.lab import surfaces #, plot_surface, surface_orientation, surface_pattern, figure, hist, title, xlabel"
     ],
     "language": "python",
     "metadata": {},
     "outputs": [],
     "prompt_number": 3
    },
    {
     "cell_type": "markdown",
     "metadata": {},
     "source": [
      "Load the Default Cortical Surface\n",
      "----------------------------------\n",
      "\n",
      "**Note:** *The Cortex requires a LocalConnectivity to be defined over the entire surface, \n",
      "the configure() method below will calculate this LocalConnectivity which takes a minute or so...*"
     ]
    },
    {
     "cell_type": "code",
     "collapsed": false,
     "input": [
      "cortex = surfaces.Cortex.default()\n",
      "cortex.configure()"
     ],
     "language": "python",
     "metadata": {},
     "outputs": [],
     "prompt_number": 5
    },
    {
     "cell_type": "markdown",
     "metadata": {},
     "source": [
      "The Surfaces in TVB have a built in self check method, so we'll run that now\n",
      "to make sure the Cortex we just loaded does not have any defects from the point\n",
      "of view of TVB."
     ]
    },
    {
     "cell_type": "code",
     "collapsed": false,
     "input": [
      "# Run self check: for Cortex you want (True, 4, [], [], []) to be returned\n",
      "cortex.check()"
     ],
     "language": "python",
     "metadata": {},
     "outputs": [
      {
       "metadata": {},
       "output_type": "pyout",
       "prompt_number": 6,
       "text": [
        "(True, 4, [], [], [])"
       ]
      }
     ],
     "prompt_number": 6
    },
    {
     "cell_type": "markdown",
     "metadata": {},
     "source": [
      "\n",
      "The most important thing returned by the check is the first entry in the tuple, \n",
      "if everything is fine then this will be True, the subsequent four entries let \n",
      "us know what is wrong if things don't check out ok."
     ]
    },
    {
     "cell_type": "markdown",
     "metadata": {},
     "source": [
      "Take A Look At Its Properties\n",
      "------------------------------\n",
      "\n",
      "As our surface is one of TVB's Datatypes, the first thing we can do is take a look at the summary information:"
     ]
    },
    {
     "cell_type": "code",
     "collapsed": false,
     "input": [
      "cortex.summary_info"
     ],
     "language": "python",
     "metadata": {},
     "outputs": [
      {
       "metadata": {},
       "output_type": "pyout",
       "prompt_number": 9,
       "text": [
        "{'Edge lengths, longest (mm)': 7.7567185378211327,\n",
        " 'Edge lengths, mean (mm)': 3.9760529288676785,\n",
        " 'Edge lengths, shortest (mm)': 0.6638075672007665,\n",
        " 'Has two hemispheres': False,\n",
        " 'Number of edges': 49140,\n",
        " 'Number of regions': 74,\n",
        " 'Number of triangles': 32760,\n",
        " 'Number of vertices': 16384,\n",
        " 'Region area, maximum (mm:math:`^2`)': 9119.4540365252615,\n",
        " 'Region area, mean (mm:math:`^2`)': 3366.2542250541251,\n",
        " 'Region area, minimum (mm:math:`^2`)': 366.48271886512993,\n",
        " 'Surface type': 'Cortex'}"
       ]
      }
     ],
     "prompt_number": 9
    },
    {
     "cell_type": "markdown",
     "metadata": {},
     "source": [
      "We can see a number of basic properties of the mesh here, such as the number of vertices,\n",
      "edges and triangles making up the surface. A summary of the edge lengths is also included,\n",
      "this is useful to know what scale of features, eg LocalConnectivity, we can expect to be \n",
      "able to represent on this surface. As a Cortex also has a large-scale Connectivity \n",
      "associated with it we see some \"Region\" information as well, here it is TVB's default 74\n",
      "region connectivity matrix. As we can see, this Connectivity parcellates the cortex into \n",
      "regions with a fairly broad range of sizes...\n",
      "\n",
      "Looking in more detail, we can plot the distributions of things like edge lengths and \n",
      "triangle areas to see in more detail whether the mesh is well regularised..."
     ]
    },
    {
     "cell_type": "code",
     "collapsed": false,
     "input": [
      "figure()\n",
      "hist(cortex.edge_lengths, bins=100)\n",
      "title(\"Distribution of Edge Lengths\")\n",
      "xlabel(\"mm\")\n",
      "\n",
      "figure()\n",
      "hist(cortex.triangle_areas, bins=100)\n",
      "title(\"Distribution of Triangle Areas\")\n",
      "xlabel(\"mm$^2$\")"
     ],
     "language": "python",
     "metadata": {},
     "outputs": [
      {
       "metadata": {},
       "output_type": "pyout",
       "prompt_number": 10,
       "text": [
        "<matplotlib.text.Text at 0x7fb62d4f30d0>"
       ]
      },
      {
       "metadata": {},
       "output_type": "display_data",
       "png": "[encoded data removed]",
       "text": [
        "<matplotlib.figure.Figure at 0x64112d0>"
       ]
      },
      {
       "metadata": {},
       "output_type": "display_data",
       "png": "[encoded data removed]",
       "text": [
        "<matplotlib.figure.Figure at 0x59a0710>"
       ]
      }
     ],
     "prompt_number": 10
    },
    {
     "cell_type": "markdown",
     "metadata": {},
     "source": [
      "That's All Folks... so, what's next?\n",
      "=====================================\n",
      "\n",
      "We've covered some basic ways of checking the quality and other properties of\n",
      "a mesh surface. When loading a new surface into TVB, these represent the sorts\n",
      "of things you should be checking to make sure your surface will work well with\n",
      "TVB."
     ]
    }
   ],
   "metadata": {}
  }
 ]
}