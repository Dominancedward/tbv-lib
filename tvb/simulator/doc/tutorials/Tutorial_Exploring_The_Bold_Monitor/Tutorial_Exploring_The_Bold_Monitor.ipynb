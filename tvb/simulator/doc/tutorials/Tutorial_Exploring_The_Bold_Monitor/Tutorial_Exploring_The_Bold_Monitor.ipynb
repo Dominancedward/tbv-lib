{
 "metadata": {
  "name": "",
  "signature": "sha256:10ef8bda40488e1527aa1034d6719a022a9acc6236c81b987a4b51561885f840"
 },
 "nbformat": 3,
 "nbformat_minor": 0,
 "worksheets": [
  {
   "cells": [
    {
     "cell_type": "markdown",
     "metadata": {},
     "source": [
      "Tutorial: Exploring The Bold Monitor\n",
      "==============================================================="
     ]
    },
    {
     "cell_type": "markdown",
     "metadata": {},
     "source": [
      "This tutorial explores the different functions used to model the haemodynamic response function (HRF) to compute the BOLD (Blood Oxygenation Level Dependent) signal. \n",
      "\n",
      "In the current implementation (1.1.3) TVB has HRF kernels:\n",
      "\n",
      "1. a Gamma function,\n",
      "2. a difference of two damped oscillators, \n",
      "3. a first order Volterra kernel, and\n",
      "4. a mixture of gamma functions. "
     ]
    },
    {
     "cell_type": "markdown",
     "metadata": {},
     "source": [
      "Setup\n",
      "-----\n",
      "\n",
      "We are not going to run a simulation, so we'll only import TVB's monitors to access the parameters of BOLD monitor:"
     ]
    },
    {
     "cell_type": "code",
     "collapsed": true,
     "input": [
      "import tvb.simulator.monitors as monitors"
     ],
     "language": "python",
     "metadata": {},
     "outputs": [],
     "prompt_number": 1
    },
    {
     "cell_type": "markdown",
     "metadata": {},
     "source": [
      "We also need some plotting utilities:"
     ]
    },
    {
     "cell_type": "code",
     "collapsed": true,
     "input": [
      "%pylab inline\n",
      "import matplotlib.pyplot as plt"
     ],
     "language": "python",
     "metadata": {},
     "outputs": [
      {
       "output_type": "stream",
       "stream": "stdout",
       "text": [
        "Populating the interactive namespace from numpy and matplotlib\n"
       ]
      }
     ],
     "prompt_number": 2
    },
    {
     "cell_type": "markdown",
     "metadata": {},
     "source": [
      "*Bold Monitor*\n",
      "--------\n",
      "\n",
      "\n",
      "\n",
      "Let's start by creating an instance of the Bold monitor with its default parameters:"
     ]
    },
    {
     "cell_type": "code",
     "collapsed": false,
     "input": [
      "bold = monitors.Bold()"
     ],
     "language": "python",
     "metadata": {},
     "outputs": [],
     "prompt_number": 3
    },
    {
     "cell_type": "markdown",
     "metadata": {},
     "source": [
      "In general, the sampling period of a monitor is in milliseconds and must be an integral multiple of the integration-step size used in a simulation. \n",
      "\n",
      "Therefore, monitors need to know the integration time step (*dt*) because some data reduction mechanims (eg, downsampling to the monitor's sampling period) depend on it. An easy way to achieve this is:"
     ]
    },
    {
     "cell_type": "code",
     "collapsed": true,
     "input": [
      "bold.dt = 2**-4 # Default value used in the scripts found at tvb/simulator/demos"
     ],
     "language": "python",
     "metadata": {},
     "outputs": [],
     "prompt_number": 4
    },
    {
     "cell_type": "markdown",
     "metadata": {},
     "source": [
      "HRFs are TVB Equation datatypes, and you can explore their attributes, for instance:"
     ]
    },
    {
     "cell_type": "markdown",
     "metadata": {},
     "source": [
      "* which equation we use,"
     ]
    },
    {
     "cell_type": "code",
     "collapsed": false,
     "input": [
      "bold.hrf_kernel #Which equation"
     ],
     "language": "python",
     "metadata": {},
     "outputs": [
      {
       "metadata": {},
       "output_type": "pyout",
       "prompt_number": 5,
       "text": [
        "FirstOrderVolterra(bound=False, value=None)"
       ]
      }
     ],
     "prompt_number": 5
    },
    {
     "cell_type": "markdown",
     "metadata": {},
     "source": [
      "* its symbolic expression,"
     ]
    },
    {
     "cell_type": "code",
     "collapsed": false,
     "input": [
      "bold.hrf_kernel.equation"
     ],
     "language": "python",
     "metadata": {},
     "outputs": [
      {
       "metadata": {},
       "output_type": "pyout",
       "prompt_number": 6,
       "text": [
        "'1/3. * exp(-0.5*(var / tau_s)) * (sin(sqrt(1./tau_f - 1./(4.*tau_s**2)) * var)) / (sqrt(1./tau_f - 1./(4.*tau_s**2)))'"
       ]
      }
     ],
     "prompt_number": 6
    },
    {
     "cell_type": "markdown",
     "metadata": {},
     "source": [
      "* or its configurable parameters,"
     ]
    },
    {
     "cell_type": "code",
     "collapsed": false,
     "input": [
      "bold.hrf_kernel.parameters"
     ],
     "language": "python",
     "metadata": {},
     "outputs": [
      {
       "metadata": {},
       "output_type": "pyout",
       "prompt_number": 7,
       "text": [
        "{'V_0': 0.02, 'k_1': 5.6, 'tau_f': 0.4, 'tau_s': 0.8}"
       ]
      }
     ],
     "prompt_number": 7
    },
    {
     "cell_type": "markdown",
     "metadata": {},
     "source": [
      "The default kernel is the **Volterra kernel**. The shape of this function depends on the following parameters: \n",
      "\n",
      "1. $\\tau_s$, rate constant of signal decay;\n",
      "2. $\\tau_f$, rate constant of feedback regulation;\n",
      "\n",
      "* $V_0$ and $k_1$ are parameters used in the monitor to scale the amplitude of the response. See [1]. "
     ]
    },
    {
     "cell_type": "markdown",
     "metadata": {},
     "source": [
      "Let's have a look at the function:"
     ]
    },
    {
     "cell_type": "code",
     "collapsed": false,
     "input": [
      "bold.compute_hrf()"
     ],
     "language": "python",
     "metadata": {},
     "outputs": [],
     "prompt_number": 8
    },
    {
     "cell_type": "markdown",
     "metadata": {},
     "source": [
      "By default, the method **compute_hrf** gives the reflected version of the HRF. The product between this reflected HRF and the monitor's neural activity history (convolution) yields the BOLD signal. In python the indexing [::-1] will give the HRF kernel as often seen in scientific publications. "
     ]
    },
    {
     "cell_type": "code",
     "collapsed": false,
     "input": [
      "# plot the kernel\n",
      "plt.plot(bold._stock_time, bold.hemodynamic_response_function.T[::-1]); \n",
      "plt.ylabel('hrf');\n",
      "plt.xlabel('time [sec]')\n",
      "\n",
      "# plot the maximum\n",
      "plt.plot(bold._stock_time[bold.hemodynamic_response_function.T[::-1].argmax()], bold.hemodynamic_response_function.T[::-1].max(), 'ko')"
     ],
     "language": "python",
     "metadata": {},
     "outputs": [
      {
       "metadata": {},
       "output_type": "pyout",
       "prompt_number": 10,
       "text": [
        "[<matplotlib.lines.Line2D at 0x4ca05d0>]"
       ]
      },
      {
       "metadata": {},
       "output_type": "display_data",
       "png": "[encoded data removed]",
       "text": [
        "<matplotlib.figure.Figure at 0x4ca0410>"
       ]
      }
     ],
     "prompt_number": 10
    },
    {
     "cell_type": "code",
     "collapsed": false,
     "input": [
      "print 'Rising peak is around %1.2f seconds' % bold._stock_time[bold.hemodynamic_response_function.T[::-1].argmax()]"
     ],
     "language": "python",
     "metadata": {},
     "outputs": [
      {
       "output_type": "stream",
       "stream": "stdout",
       "text": [
        "Rising peak is around 0.80 seconds\n"
       ]
      }
     ],
     "prompt_number": 11
    },
    {
     "cell_type": "markdown",
     "metadata": {},
     "source": [
      "Exploring other HRF kernels\n",
      "---------------------------\n",
      "\n",
      " \n",
      "First, we will create new instances of the Bold monitor.\n",
      "\n",
      "Second, the equation defining the hrf kernel has to be changed. To achieve this we will make use of the predefined functions as Equations datatypes "
     ]
    },
    {
     "cell_type": "code",
     "collapsed": true,
     "input": [
      "import tvb.datatypes.equations as equations"
     ],
     "language": "python",
     "metadata": {},
     "outputs": [],
     "prompt_number": 12
    },
    {
     "cell_type": "markdown",
     "metadata": {},
     "source": [
      "* In [2] they used a simple gamma function; in [3] a difference of damped oscillators was fitted to functional data from the visual cortex; the mixture of gammas is the function used in softwares like SPM. "
     ]
    },
    {
     "cell_type": "code",
     "collapsed": false,
     "input": [
      "hrf_kernels = [equations.FirstOrderVolterra(), equations.DoubleExponential(), equations.MixtureOfGammas(),equations.Gamma()]"
     ],
     "language": "python",
     "metadata": {},
     "outputs": [],
     "prompt_number": 13
    },
    {
     "cell_type": "code",
     "collapsed": false,
     "input": [
      "fig = plt.figure()\n",
      "ax = fig.add_subplot(1,1,1) \n",
      "for hrf in hrf_kernels: \n",
      "    bold_monitor = monitors.Bold(hrf_kernel=hrf)\n",
      "    bold_monitor.dt = 2**-4\n",
      "    bold_monitor.compute_hrf()\n",
      "    ax.plot(bold_monitor._stock_time, bold_monitor.hemodynamic_response_function.T[::-1], label=hrf.__class__.__name__);\n",
      "\n",
      "plt.ylabel('hrf');\n",
      "plt.xlabel('time [sec]')    \n",
      "plt.legend()"
     ],
     "language": "python",
     "metadata": {},
     "outputs": [
      {
       "metadata": {},
       "output_type": "pyout",
       "prompt_number": 14,
       "text": [
        "<matplotlib.legend.Legend at 0x7f9bcc26c690>"
       ]
      },
      {
       "metadata": {},
       "output_type": "display_data",
       "png": "[encoded data removed]",
       "text": [
        "<matplotlib.figure.Figure at 0x7f9bcc0b79d0>"
       ]
      }
     ],
     "prompt_number": 14
    },
    {
     "cell_type": "markdown",
     "metadata": {},
     "source": [
      "We'll now change another parameter, the HRF duration, which by default is set to 20 [s], as in [6]. However, in SPM, the default kernel is 32 [s] (see [7]). "
     ]
    },
    {
     "cell_type": "code",
     "collapsed": false,
     "input": [
      "fig = plt.figure()\n",
      "ax = fig.add_subplot(1,1,1) \n",
      "for hrf in hrf_kernels: \n",
      "    bold_monitor = monitors.Bold(hrf_kernel=hrf, hrf_length=32000)\n",
      "    bold_monitor.dt = 2**-4\n",
      "    bold_monitor.compute_hrf()\n",
      "    ax.plot(bold_monitor._stock_time, bold_monitor.hemodynamic_response_function.T[::-1], label=hrf.__class__.__name__);\n",
      "\n",
      "plt.ylabel('hrf');\n",
      "plt.xlabel('time [sec]')    \n",
      "plt.legend()"
     ],
     "language": "python",
     "metadata": {},
     "outputs": [
      {
       "metadata": {},
       "output_type": "pyout",
       "prompt_number": 15,
       "text": [
        "<matplotlib.legend.Legend at 0x7f9bcc507850>"
       ]
      },
      {
       "metadata": {},
       "output_type": "display_data",
       "png": "[encoded data removed]",
       "text": [
        "<matplotlib.figure.Figure at 0x7f9bcc270790>"
       ]
      }
     ],
     "prompt_number": 15
    },
    {
     "cell_type": "markdown",
     "metadata": {},
     "source": [
      "* [1] Friston, K., Mechelli, A., Turner, R., and Price, C., *Nonlinear Responses in fMRI: The Balloon Model, Volterra Kernels, and Other Hemodynamics*, NeuroImage, 12, 466 - 477, 2000. \n",
      "\n",
      "* [2] Geoffrey M. Boynton, Stephen A. Engel, Gary H. Glover and David J. Heeger (1996). *Linear Systems Analysis of Functional Magnetic Resonance Imaging in Human V1*. J Neurosci 16: 4207-4221\n",
      "\n",
      "* [3] Alex Polonsky, Randolph Blake, Jochen Braun and David J. Heeger (2000). *Neuronal activity in human primary visual cortex correlates with perception during binocular rivalry*. Nature Neuroscience 3: 1153-1159\n",
      "\n",
      "* [4] Glover, G. *Deconvolution of Impulse Response in Event-Related BOLD fMRI*. NeuroImage 9, 416-429, 1999.\n",
      "\n",
      "* [5] Have a look at this tutorial: http://nbviewer.ipython.org/github/practical-neuroimaging/pna-notebooks/blob/master/convolution.ipynb\n",
      "\n",
      "* [6] Drysdale, P. M.; Huber, J. P.; Robinson, P. A. & Aquino, K. M. *Spatiotemporal BOLD dynamics from a poroelastic hemodynamic model*. J Theor Biol, 2010, 265, 524\u2013534\n",
      "\n",
      "* [7] http://en.wikibooks.org/wiki/SPM/Haemodynamic_Response_Function\n"
     ]
    },
    {
     "cell_type": "raw",
     "metadata": {},
     "source": [
      "Python and modules version:"
     ]
    },
    {
     "cell_type": "code",
     "collapsed": false,
     "input": [
      "!python -V"
     ],
     "language": "python",
     "metadata": {},
     "outputs": [
      {
       "output_type": "stream",
       "stream": "stdout",
       "text": [
        "Python 2.7.6 :: Continuum Analytics, Inc.\r\n"
       ]
      }
     ],
     "prompt_number": 16
    },
    {
     "cell_type": "code",
     "collapsed": false,
     "input": [
      "!ipython -V"
     ],
     "language": "python",
     "metadata": {},
     "outputs": [
      {
       "output_type": "stream",
       "stream": "stdout",
       "text": [
        "3.0.0-dev\r\n"
       ]
      }
     ],
     "prompt_number": 17
    }
   ],
   "metadata": {}
  }
 ]
}